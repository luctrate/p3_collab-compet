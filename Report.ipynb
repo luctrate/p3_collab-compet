{
 "cells": [
  {
   "cell_type": "markdown",
   "metadata": {},
   "source": [
    "Student: Steven Hooker\n",
    "\n",
    "Project: Collaboration and Competition - Tennis\n",
    "\n",
    "Course: Deep Reinforcement Learning"
   ]
  },
  {
   "cell_type": "markdown",
   "metadata": {},
   "source": [
    "### Environment"
   ]
  },
  {
   "cell_type": "markdown",
   "metadata": {},
   "source": [
    "The main goal of this project is to train two agents to solve the \"Tennis\" environment. Within this environment the agents need to collaborative hit the ball so that it stays in game.\n",
    "\n",
    "Following the given description of the challenge.\n",
    "\n",
    "In this environment, two agents control rackets to bounce a ball over a net. If an agent hits the ball over the net, it receives a reward of +0.1. If an agent lets a ball hit the ground or hits the ball out of bounds, it receives a reward of -0.01. Thus, the goal of each agent is to keep the ball in play.\n",
    "\n",
    "The observation space consists of 8 variables corresponding to the position and velocity of the ball and racket. Each agent receives its own, local observation. Two continuous actions are available, corresponding to movement toward (or away from) the net, and jumping.\n"
   ]
  },
  {
   "cell_type": "markdown",
   "metadata": {},
   "source": [
    "The task is episodic, and in order to solve the environment, your agents must get an average score of +0.5 (over 100 consecutive episodes, after taking the maximum over both agents). Specifically,\n",
    "\n",
    "After each episode, we add up the rewards that each agent received (without discounting), to get a score for each agent. This yields 2 (potentially different) scores. We then take the maximum of these 2 scores.\n",
    "This yields a single score for each episode.\n",
    "The environment is considered solved, when the average (over 100 episodes) of those scores is at least +0.5."
   ]
  },
  {
   "cell_type": "markdown",
   "metadata": {},
   "source": [
    "### Agent & Model"
   ]
  },
  {
   "cell_type": "markdown",
   "metadata": {},
   "source": [
    "In order to solve the challenge the MADDPG was chosen to be impplemented. \n",
    "[MADDPG paper](https://arxiv.org/pdf/1706.02275.pdf). \n",
    "\n",
    "\n",
    "* MADDPG is an adapted version of the DDPG method to solve multi agent problems.\n",
    "* Information specific to DDPG can be found in the report of the previous project [p2_continuous control Report](https://github.com/luctrate/p2_continuous-control/blob/master/Report.ipynb)\n",
    "\n",
    "* In order to be able to use collective experience the critic uses the combined state space to judge situations. Agents use local experience via the actor to act and get suggestions for collaborative opportunities via the critic. This is called centralized training with decentralized execution.\n",
    "\n",
    "\n",
    "#### Model \n",
    "\n",
    "\n",
    "    Actor network parameters\n",
    "  \n",
    "    ----------------------------------------------------------------\n",
    "            Layer (type)               Output Shape         Param #\n",
    "    ================================================================\n",
    "           BatchNorm1d-1                   [-1, 24]              48\n",
    "                Linear-2                  [-1, 400]          10,000\n",
    "                Linear-3                  [-1, 300]         120,300\n",
    "                Linear-4                    [-1, 2]             602\n",
    "    ================================================================\n",
    "    Total params: 130,950\n",
    "    Trainable params: 130,950\n",
    "    Non-trainable params: 0\n",
    "    ----------------------------------------------------------------\n",
    "    Input size (MB): 0.00\n",
    "    Forward/backward pass size (MB): 0.01\n",
    "    Params size (MB): 0.50\n",
    "    Estimated Total Size (MB): 0.51\n",
    "    ----------------------------------------------------------------\n",
    "\n",
    "    Critic network parameters\n",
    " \n",
    "    ----------------------------------------------------------------\n",
    "            Layer (type)               Output Shape         Param #\n",
    "    ================================================================\n",
    "           BatchNorm1d-1                   [-1, 48]              96\n",
    "                Linear-2                  [-1, 400]          19,600\n",
    "                Linear-3                  [-1, 300]         121,500\n",
    "                Linear-4                    [-1, 1]             301\n",
    "    ================================================================\n",
    "    Total params: 141,497\n",
    "    Trainable params: 141,497\n",
    "    Non-trainable params: 0\n",
    "    ----------------------------------------------------------------\n",
    "    Input size (MB): 0.00\n",
    "    Forward/backward pass size (MB): 0.01\n",
    "    Params size (MB): 0.54\n",
    "    Estimated Total Size (MB): 0.55\n",
    "    ----------------------------------------------------------------\n"
   ]
  },
  {
   "cell_type": "markdown",
   "metadata": {},
   "source": [
    "#### Hyperparameters\n",
    "\n",
    "Following hyperparameters where used to solve this challenge.\n",
    "```python\n",
    "BUFFER_SIZE = int(1e5)   # replay buffer size\n",
    "BATCH_SIZE = 64          # minibatch size\n",
    "GAMMA = 0.99             # discount factor\n",
    "TAU = 1e-3               # for soft update of target parameters\n",
    "lrn_rate_actor = 1e-4    # learning rate actor\n",
    "lrn_rate_critic = 1e-3   # learning rate critic\n",
    "initial_noise_scale=1.0  # initial noise factor\n",
    "noise_reduction=0.999998 # noise reduction factor to reduce noise over time\n",
    "```\n",
    "\n",
    "The code and instructions on how start, use the trained agent and train the agent from scratch can be founds here. \n",
    "https://github.com/luctrate/p3_collab-compet"
   ]
  },
  {
   "cell_type": "markdown",
   "metadata": {},
   "source": [
    "#### Results\n",
    "\n",
    "The following plot shows the score over the episodes and that the challenge was solved after 1227 episodes."
   ]
  },
  {
   "cell_type": "markdown",
   "metadata": {},
   "source": [
    "![results.png](./assets/results.png)"
   ]
  },
  {
   "cell_type": "markdown",
   "metadata": {},
   "source": [
    "### Enhancements\n",
    "Unfortunately, due to the current situation I have less time allocated for the course. I would like to implement prioritized experience replay to see how it influences training time as I can imagine there are a lot of 'useless' expeience tuples which get picked over and over again. This show itself in the long time it took the agent to see some progress. 1265 Episodes and still 0.15 avg score and 0.50 62 episodes later. "
   ]
  }
 ],
 "metadata": {
  "kernelspec": {
   "display_name": "drlnd",
   "language": "python",
   "name": "drlnd"
  },
  "language_info": {
   "codemirror_mode": {
    "name": "ipython",
    "version": 3
   },
   "file_extension": ".py",
   "mimetype": "text/x-python",
   "name": "python",
   "nbconvert_exporter": "python",
   "pygments_lexer": "ipython3",
   "version": "3.6.10"
  }
 },
 "nbformat": 4,
 "nbformat_minor": 4
}
